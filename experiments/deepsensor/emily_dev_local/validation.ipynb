{
 "cells": [
  {
   "cell_type": "code",
   "execution_count": 1,
   "metadata": {},
   "outputs": [],
   "source": [
    "%reload_ext autoreload\n",
    "%autoreload 2"
   ]
  },
  {
   "cell_type": "code",
   "execution_count": 2,
   "metadata": {},
   "outputs": [],
   "source": [
    "from nzdownscale.downscaler.validate_v2 import ValidateV2\n",
    "from datetime import datetime, timedelta"
   ]
  },
  {
   "cell_type": "code",
   "execution_count": 3,
   "metadata": {},
   "outputs": [],
   "source": [
    "model_name = 'hourly_v2'\n",
    "var = 'temperature'\n",
    "\n",
    "model_dir = f'/home/emily/deepsensor/deepweather-downscaling/experiments/'\\\n",
    "            f'models/{var}/{model_name}'\n",
    "model_path = f'{model_dir}/{model_name}.pt'\n",
    "train_metadata_path = f'{model_dir}/metadata_{model_name}.pkl'\n",
    "data_processor_path = f'{model_dir}/data_processor.pkl'\n",
    "task_loader_path = f'{model_dir}/task_loader.pkl'"
   ]
  },
  {
   "cell_type": "code",
   "execution_count": 4,
   "metadata": {},
   "outputs": [],
   "source": [
    "validate = ValidateV2(model_path,\n",
    "                      data_processor_path,\n",
    "                      task_loader_path,\n",
    "                      train_metadata_path)"
   ]
  },
  {
   "cell_type": "code",
   "execution_count": 5,
   "metadata": {},
   "outputs": [],
   "source": [
    "time = [datetime(2010, 1, 1, i) for i in range(24)]"
   ]
  },
  {
   "cell_type": "code",
   "execution_count": 6,
   "metadata": {},
   "outputs": [
    {
     "name": "stderr",
     "output_type": "stream",
     "text": [
      "Loading ERA5:   0%|          | 0/6 [00:00<?, ?it/s]"
     ]
    },
    {
     "name": "stderr",
     "output_type": "stream",
     "text": [
      "Loading ERA5: 100%|██████████| 6/6 [00:27<00:00,  4.53s/it]\n",
      "Loading stations: 100%|██████████| 444/444 [01:28<00:00,  5.04it/s]\n"
     ]
    },
    {
     "name": "stdout",
     "output_type": "stream",
     "text": [
      "159 stations with data at ['2010-01-01T00:00:00.000000000' '2010-01-01T01:00:00.000000000'\n",
      " '2010-01-01T02:00:00.000000000' '2010-01-01T03:00:00.000000000'\n",
      " '2010-01-01T04:00:00.000000000' '2010-01-01T05:00:00.000000000'\n",
      " '2010-01-01T06:00:00.000000000' '2010-01-01T07:00:00.000000000'\n",
      " '2010-01-01T08:00:00.000000000' '2010-01-01T09:00:00.000000000'\n",
      " '2010-01-01T10:00:00.000000000' '2010-01-01T11:00:00.000000000'\n",
      " '2010-01-01T12:00:00.000000000' '2010-01-01T13:00:00.000000000'\n",
      " '2010-01-01T14:00:00.000000000' '2010-01-01T15:00:00.000000000'\n",
      " '2010-01-01T16:00:00.000000000' '2010-01-01T17:00:00.000000000'\n",
      " '2010-01-01T18:00:00.000000000' '2010-01-01T19:00:00.000000000'\n",
      " '2010-01-01T20:00:00.000000000' '2010-01-01T21:00:00.000000000'\n",
      " '2010-01-01T22:00:00.000000000' '2010-01-01T23:00:00.000000000']\n",
      "Pre-processing ERA5 data\n",
      "Pre-processing station data\n",
      "dim_yc inferred from TaskLoader: (8, 6, 1, 1)\n",
      "dim_yt inferred from TaskLoader: 1\n",
      "dim_aux_t inferred from TaskLoader: 5\n",
      "Setting aux_t_mlp_layers: (64, 64, 64)\n",
      "encoder_scales inferred from TaskLoader: [0.0035739783197641373, 0.003573982510715723, 0.00035739815211854875, 0.002]\n",
      "decoder_scale inferred from TaskLoader: 0.004\n"
     ]
    },
    {
     "name": "stderr",
     "output_type": "stream",
     "text": [
      " 33%|███▎      | 8/24 [15:54<34:22, 128.92s/it]"
     ]
    }
   ],
   "source": [
    "pred = validate.predict(time)"
   ]
  },
  {
   "cell_type": "code",
   "execution_count": null,
   "metadata": {},
   "outputs": [
    {
     "data": {
      "text/plain": [
       "(array([2.96400000e+03, 2.63546000e+05, 3.56094300e+06, 1.98444020e+07,\n",
       "        8.19463141e+08, 2.62747461e+08, 5.03996770e+07, 1.60007750e+07,\n",
       "        3.72696900e+06, 3.26146000e+05]),\n",
       " array([-4.48679256, -0.50191987,  3.48295283,  7.46782541, 11.45269871,\n",
       "        15.43757057, 19.42244339, 23.40731621, 27.39218903, 31.37706184,\n",
       "        35.36193466]),\n",
       " <BarContainer object of 10 artists>)"
      ]
     },
     "execution_count": 7,
     "metadata": {},
     "output_type": "execute_result"
    },
    {
     "data": {
      "image/png": "[encoded data removed]",
      "text/plain": [
       "<Figure size 640x480 with 1 Axes>"
      ]
     },
     "metadata": {},
     "output_type": "display_data"
    }
   ],
   "source": [
    "pred['dry_bulb']['mean'].to_netcdf(f'{model_dir}/pred_20100101.nc')"
   ]
  },
  {
   "cell_type": "code",
   "execution_count": null,
   "metadata": {},
   "outputs": [],
   "source": []
  }
 ],
 "metadata": {
  "kernelspec": {
   "display_name": "deepsensor",
   "language": "python",
   "name": "python3"
  },
  "language_info": {
   "codemirror_mode": {
    "name": "ipython",
    "version": 3
   },
   "file_extension": ".py",
   "mimetype": "text/x-python",
   "name": "python",
   "nbconvert_exporter": "python",
   "pygments_lexer": "ipython3",
   "version": "3.11.5"
  }
 },
 "nbformat": 4,
 "nbformat_minor": 2
}
