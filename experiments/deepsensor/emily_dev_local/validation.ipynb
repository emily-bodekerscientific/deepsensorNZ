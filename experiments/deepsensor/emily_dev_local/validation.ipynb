{
 "cells": [
  {
   "cell_type": "code",
   "execution_count": 1,
   "metadata": {},
   "outputs": [],
   "source": [
    "%reload_ext autoreload\n",
    "%autoreload 2"
   ]
  },
  {
   "cell_type": "code",
   "execution_count": 2,
   "metadata": {},
   "outputs": [],
   "source": [
    "from nzdownscale.downscaler.validate_v2 import ValidateV2\n",
    "from datetime import datetime, timedelta"
   ]
  },
  {
   "cell_type": "code",
   "execution_count": 3,
   "metadata": {},
   "outputs": [],
   "source": [
    "model_name = 'hourly_v2'\n",
    "var = 'temperature'\n",
    "\n",
    "model_dir = f'/home/emily/deepsensor/deepweather-downscaling/experiments/'\\\n",
    "            f'models/{var}/{model_name}'\n",
    "model_path = f'{model_dir}/{model_name}.pt'\n",
    "train_metadata_path = f'{model_dir}/metadata_{model_name}.pkl'\n",
    "data_processor_path = f'{model_dir}/data_processor.pkl'\n",
    "task_loader_path = f'{model_dir}/task_loader.pkl'"
   ]
  },
  {
   "cell_type": "code",
   "execution_count": 8,
   "metadata": {},
   "outputs": [
    {
     "name": "stdout",
     "output_type": "stream",
     "text": [
      "Producing predictions at resolution: 0.01\n"
     ]
    }
   ],
   "source": [
    "validate = ValidateV2(model_path,\n",
    "                      data_processor_path,\n",
    "                      task_loader_path,\n",
    "                      train_metadata_path)"
   ]
  },
  {
   "cell_type": "code",
   "execution_count": 9,
   "metadata": {},
   "outputs": [],
   "source": [
    "time = [datetime(2010, 1, 1, i) for i in range(24)]"
   ]
  },
  {
   "cell_type": "code",
   "execution_count": 10,
   "metadata": {},
   "outputs": [
    {
     "name": "stderr",
     "output_type": "stream",
     "text": [
      "Loading ERA5:   0%|          | 0/6 [00:00<?, ?it/s]"
     ]
    },
    {
     "name": "stderr",
     "output_type": "stream",
     "text": [
      "Loading ERA5: 100%|██████████| 6/6 [01:08<00:00, 11.47s/it]\n",
      "Loading stations: 100%|██████████| 444/444 [00:40<00:00, 10.94it/s]\n"
     ]
    },
    {
     "name": "stdout",
     "output_type": "stream",
     "text": [
      "159 stations with data at ['2010-01-01T00:00:00.000000000' '2010-01-01T01:00:00.000000000'\n",
      " '2010-01-01T02:00:00.000000000' '2010-01-01T03:00:00.000000000'\n",
      " '2010-01-01T04:00:00.000000000' '2010-01-01T05:00:00.000000000'\n",
      " '2010-01-01T06:00:00.000000000' '2010-01-01T07:00:00.000000000'\n",
      " '2010-01-01T08:00:00.000000000' '2010-01-01T09:00:00.000000000'\n",
      " '2010-01-01T10:00:00.000000000' '2010-01-01T11:00:00.000000000'\n",
      " '2010-01-01T12:00:00.000000000' '2010-01-01T13:00:00.000000000'\n",
      " '2010-01-01T14:00:00.000000000' '2010-01-01T15:00:00.000000000'\n",
      " '2010-01-01T16:00:00.000000000' '2010-01-01T17:00:00.000000000'\n",
      " '2010-01-01T18:00:00.000000000' '2010-01-01T19:00:00.000000000'\n",
      " '2010-01-01T20:00:00.000000000' '2010-01-01T21:00:00.000000000'\n",
      " '2010-01-01T22:00:00.000000000' '2010-01-01T23:00:00.000000000']\n",
      "Pre-processing ERA5 data\n",
      "Pre-processing station data\n",
      "dim_yc inferred from TaskLoader: (8, 6, 1, 1)\n",
      "dim_yt inferred from TaskLoader: 1\n",
      "dim_aux_t inferred from TaskLoader: 5\n",
      "Setting aux_t_mlp_layers: (64, 64, 64)\n",
      "encoder_scales inferred from TaskLoader: [0.0035739766899496317, 0.003573982510715723, 0.00035739815211854875, 0.002]\n",
      "decoder_scale inferred from TaskLoader: 0.004\n"
     ]
    },
    {
     "name": "stderr",
     "output_type": "stream",
     "text": [
      "100%|██████████| 24/24 [00:51<00:00,  2.13s/it]\n"
     ]
    }
   ],
   "source": [
    "pred = validate.predict(time)"
   ]
  },
  {
   "cell_type": "code",
   "execution_count": null,
   "metadata": {},
   "outputs": [],
   "source": [
    "# pred['dry_bulb']['mean'].to_netcdf(f'{model_dir}/pred_20100101.nc')"
   ]
  },
  {
   "cell_type": "code",
   "execution_count": 13,
   "metadata": {},
   "outputs": [],
   "source": [
    "for i in range(24):\n",
    "    pred['dry_bulb']['mean'].isel(time=i).plot()"
   ]
  },
  {
   "cell_type": "code",
   "execution_count": null,
   "metadata": {},
   "outputs": [],
   "source": []
  }
 ],
 "metadata": {
  "kernelspec": {
   "display_name": "deepsensor",
   "language": "python",
   "name": "python3"
  },
  "language_info": {
   "codemirror_mode": {
    "name": "ipython",
    "version": 3
   },
   "file_extension": ".py",
   "mimetype": "text/x-python",
   "name": "python",
   "nbconvert_exporter": "python",
   "pygments_lexer": "ipython3",
   "version": "3.11.5"
  }
 },
 "nbformat": 4,
 "nbformat_minor": 2
}
