{
 "cells": [
  {
   "cell_type": "code",
   "execution_count": null,
   "metadata": {},
   "outputs": [],
   "source": [
    "%reload_ext autoreload\n",
    "%autoreload 2\n",
    "\n",
    "import os\n",
    "\n",
    "os.environ[\"CUDA_VISIBLE_DEVICES\"] = \"2\"\n",
    "\n",
    "import xarray as xr\n",
    "import matplotlib.pyplot as plt\n",
    "import pandas as pd\n",
    "from tqdm import tqdm\n",
    "import numpy as np\n",
    "\n",
    "from nzdownscale.dataprocess.stations import ProcessStations\n",
    "from nzdownscale.dataprocess.utils import PlotData\n",
    "from nzdownscale.dataprocess.config import VAR_STATIONS"
   ]
  },
  {
   "cell_type": "markdown",
   "metadata": {},
   "source": [
    "### Plot Stations\n",
    "\n",
    "Ideally I would have this for a given date, and the stations would be coloured by the station values. "
   ]
  },
  {
   "cell_type": "code",
   "execution_count": null,
   "metadata": {},
   "outputs": [],
   "source": [
    "var = \"temperature\"\n",
    "process_stations = ProcessStations()\n",
    "all_stations = process_stations.get_path_all_stations(var)\n",
    "print(len(all_stations))"
   ]
  },
  {
   "cell_type": "code",
   "execution_count": null,
   "metadata": {},
   "outputs": [],
   "source": [
    "f = all_stations[0]\n",
    "ds = process_stations.load_station(f)\n",
    "da = process_stations.ds_to_da(ds, var)\n",
    "\n",
    "# takes a couple of minutes\n",
    "df = process_stations.get_metadata_df(var)"
   ]
  },
  {
   "cell_type": "code",
   "execution_count": null,
   "metadata": {},
   "outputs": [],
   "source": [
    "df"
   ]
  },
  {
   "cell_type": "code",
   "execution_count": null,
   "metadata": {},
   "outputs": [],
   "source": [
    "plt.rcParams[\"font.size\"] = 16\n",
    "ax = process_stations.plot_stations_on_map(df)\n",
    "# plt.title(f\"Stations: {var}\")\n",
    "# plt.savefig('./tmp/fig.png')\n",
    "plt.savefig('./images/data/stations_temperature.png', bbox_inches='tight', dpi=300)\n",
    "plt.show()"
   ]
  },
  {
   "cell_type": "markdown",
   "metadata": {},
   "source": [
    "### ERA5 \n",
    "\n",
    "Plot ERA5-land data."
   ]
  },
  {
   "cell_type": "code",
   "execution_count": null,
   "metadata": {},
   "outputs": [],
   "source": [
    "from nzdownscale.dataprocess.era5 import ProcessERA5"
   ]
  },
  {
   "cell_type": "code",
   "execution_count": null,
   "metadata": {},
   "outputs": [],
   "source": [
    "era5 = ProcessERA5()\n",
    "era5_ds = era5.load_ds(var, [2016])\n",
    "era5_da = era5.ds_to_da(era5_ds, var)"
   ]
  },
  {
   "cell_type": "code",
   "execution_count": null,
   "metadata": {},
   "outputs": [],
   "source": [
    "cbar_kwargs = {\"location\": \"right\", \"pad\": 0.09, \"shrink\": 0.7, \"extend\": \"both\"}"
   ]
  },
  {
   "cell_type": "code",
   "execution_count": null,
   "metadata": {},
   "outputs": [],
   "source": [
    "# daily_average = era5_da.resample(time=\"1D\").mean()\n",
    "# daily_average"
   ]
  },
  {
   "cell_type": "code",
   "execution_count": null,
   "metadata": {},
   "outputs": [],
   "source": [
    "era5_plotnz = PlotData()\n",
    "era5_fig = plt.figure(figsize=(10, 10))\n",
    "era5_ax = era5_plotnz.nz_map_with_coastlines()\n",
    "# daily_average = era5_da.resample(time=\"1D\").mean()\n",
    "era5_da_to_plot = era5_da.sel(time=\"2016-07-01\").isel(time=0)\n",
    "min_value, max_value = era5_da_to_plot.min().values, era5_da_to_plot.max().values\n",
    "\n",
    "cbar_kwargs_era = cbar_kwargs\n",
    "cbar_kwargs_era[\"label\"] = 'Temperature (°C)'\n",
    "era5_p = era5_da_to_plot.plot(\n",
    "    cbar_kwargs=cbar_kwargs_era, ax=era5_ax, cmap=\"RdYlBu_r\", vmin=min_value, vmax=max_value,\n",
    ")\n",
    "plt.title('')\n",
    "date = str(era5_da_to_plot[\"time\"].values)[:10]\n",
    "# plt.title(\n",
    "#     f\"ERA5-land: {var.capitalize()}\")#, {date}, 0.1\\N{DEGREE SIGN} resolution\", fontsize=14)\n",
    "\n",
    "# label_size = 14\n",
    "# plt.gca().tick_params(axis='x', labelsize=label_size)\n",
    "# plt.gca().tick_params(axis='y', labelsize=label_size)\n",
    "# plt.savefig('./tmp/fig.png')\n",
    "plt.savefig('./images/data/era5_temperature.png', bbox_inches='tight', dpi=300)\n",
    "plt.show()"
   ]
  },
  {
   "cell_type": "markdown",
   "metadata": {},
   "source": [
    "### Topography"
   ]
  },
  {
   "cell_type": "code",
   "execution_count": null,
   "metadata": {},
   "outputs": [],
   "source": [
    "from nzdownscale.dataprocess.topography import ProcessTopography"
   ]
  },
  {
   "cell_type": "code",
   "execution_count": null,
   "metadata": {},
   "outputs": [],
   "source": [
    "file = \"../../data/topography/nz_elevation_200m.nc\"  # this was created by running as main data_process/topography.py\n",
    "top = ProcessTopography()\n",
    "top_da = top.open_da(file)"
   ]
  },
  {
   "cell_type": "code",
   "execution_count": null,
   "metadata": {},
   "outputs": [],
   "source": [
    "top_nzplot = PlotData()\n",
    "# da.plot()  # ~2 min\n",
    "top_nzplot.nz_map_with_coastlines()\n",
    "cbar_kwargs_topo = cbar_kwargs\n",
    "cbar_kwargs_topo[\"label\"] = 'Elevation (m)'\n",
    "top_da.plot(cbar_kwargs=cbar_kwargs_topo, cmap=\"terrain\", vmin=0)\n",
    "# plt.title(\"Topography\")#, 1km resolution\", fontsize=14)\n",
    "plt.savefig('./images/data/topo.png', bbox_inches='tight', dpi=300)\n",
    "plt.show()"
   ]
  },
  {
   "cell_type": "markdown",
   "metadata": {},
   "source": [
    "### Stations"
   ]
  },
  {
   "cell_type": "code",
   "execution_count": null,
   "metadata": {},
   "outputs": [],
   "source": [
    "from matplotlib.cm import ScalarMappable\n",
    "from matplotlib.colors import Normalize"
   ]
  },
  {
   "cell_type": "code",
   "execution_count": null,
   "metadata": {},
   "outputs": [],
   "source": [
    "var = \"temperature\"\n",
    "process_stations = ProcessStations()\n",
    "all_stations = process_stations.get_path_all_stations(var)"
   ]
  },
  {
   "cell_type": "code",
   "execution_count": null,
   "metadata": {},
   "outputs": [],
   "source": [
    "date = pd.to_datetime('2016-07-01T00:00:00')\n",
    "    # \"2016-07-01\"\n",
    "df_date = None\n",
    "for f in tqdm(all_stations):\n",
    "    df_stations = process_stations.load_station_df(f, var, daily=False)\n",
    "    try:\n",
    "        station_at_date = df_stations[df_stations.index == date]\n",
    "        if type(df_date) == pd.DataFrame:\n",
    "            df_date = pd.concat([df_date, station_at_date])\n",
    "        else:\n",
    "            print(\"Creating df_date\")\n",
    "            df_date = station_at_date\n",
    "    except:\n",
    "        pass"
   ]
  },
  {
   "cell_type": "code",
   "execution_count": null,
   "metadata": {},
   "outputs": [],
   "source": [
    "stations_date_plotnz = PlotData()\n",
    "era5_fig = plt.figure(figsize=(10, 10))\n",
    "stations_date_ax = stations_date_plotnz.nz_map_with_coastlines()\n",
    "# vmin, vmax = df_date['dry_bulb'].min(), df_date['dry_bulb'].max()\n",
    "\n",
    "norm = Normalize(vmin=min_value, vmax=max_value)\n",
    "cmap = plt.get_cmap(\"RdYlBu_r\")\n",
    "sm = ScalarMappable(norm=norm, cmap=cmap)\n",
    "\n",
    "for row in df_date.iterrows():\n",
    "    lon = row[1][\"longitude\"]\n",
    "    lat = row[1][\"latitude\"]\n",
    "    color = sm.to_rgba(row[1][\"dry_bulb\"])\n",
    "\n",
    "    stations_date_ax.scatter(\n",
    "        lon,\n",
    "        lat,\n",
    "        color=color,\n",
    "        marker=\"o\",\n",
    "        s=40,\n",
    "        cmap=cmap,\n",
    "        vmin=min_value,\n",
    "        vmax=max_value,\n",
    "    )\n",
    "cbar_kwargs_era[\"label\"] = 'Temperature (°C)'\n",
    "cbar = era5_fig.colorbar(sm, ax=stations_date_ax, **cbar_kwargs_era)\n",
    "plt.savefig('./images/data/stations_temperature_values.png', bbox_inches='tight', dpi=300)\n",
    "\n",
    "# cbar.set_label(\"Temperature (°C)\")\n",
    "\n",
    "# plt.title(f\"Station data: {var.capitalize()}, {date}\", fontsize=14);\n",
    "\n",
    "# # label_size = 14\n",
    "# # plt.gca().tick_params(axis='x', labelsize=label_size)\n",
    "# # plt.gca().tick_params(axis='y', labelsize=label_size)\n",
    "# # plt.savefig('./tmp/fig.png')\n",
    "# plt.show()"
   ]
  },
  {
   "cell_type": "code",
   "execution_count": null,
   "metadata": {},
   "outputs": [],
   "source": [
    "df"
   ]
  },
  {
   "cell_type": "code",
   "execution_count": null,
   "metadata": {},
   "outputs": [],
   "source": [
    "ax = process_stations.plot_stations_on_map(df)\n",
    "parent_path = process_stations.get_parent_path(\"temperature\")\n",
    "\n",
    "from nzdownscale.dataprocess.config import STATION_LATLON\n",
    "\n",
    "for station in [\"WELLINGTON AERO\", \"MT COOK EWS\"]:\n",
    "    station_lat = STATION_LATLON[station][\"latitude\"]\n",
    "    station_lon = STATION_LATLON[station][\"longitude\"]\n",
    "\n",
    "    ax.scatter(station_lon, station_lat, color=\"black\", s=100)\n",
    "\n",
    "\n",
    "plt.title(f\"Stations: {var}\")\n",
    "# plt.savefig('./tmp/fig.png')\n",
    "plt.show()"
   ]
  },
  {
   "cell_type": "code",
   "execution_count": null,
   "metadata": {},
   "outputs": [],
   "source": []
  }
 ],
 "metadata": {
  "kernelspec": {
   "display_name": "deepsensor",
   "language": "python",
   "name": "python3"
  },
  "language_info": {
   "codemirror_mode": {
    "name": "ipython",
    "version": 3
   },
   "file_extension": ".py",
   "mimetype": "text/x-python",
   "name": "python",
   "nbconvert_exporter": "python",
   "pygments_lexer": "ipython3",
   "version": "3.12.5"
  }
 },
 "nbformat": 4,
 "nbformat_minor": 2
}
