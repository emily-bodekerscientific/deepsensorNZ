{
 "cells": [
  {
   "cell_type": "code",
   "execution_count": 1,
   "metadata": {},
   "outputs": [],
   "source": [
    "%reload_ext autoreload\n",
    "%autoreload 2\n",
    "\n",
    "import os\n",
    "\n",
    "os.environ[\"CUDA_VISIBLE_DEVICES\"] = \"2\"\n",
    "\n",
    "import xarray as xr\n",
    "import matplotlib.pyplot as plt\n",
    "import pandas as pd\n",
    "from tqdm import tqdm\n",
    "import numpy as np\n",
    "\n",
    "from nzdownscale.dataprocess.stations import ProcessStations\n",
    "from nzdownscale.dataprocess.utils import PlotData\n",
    "from nzdownscale.dataprocess.config import VAR_STATIONS"
   ]
  },
  {
   "cell_type": "code",
   "execution_count": 2,
   "metadata": {},
   "outputs": [
    {
     "name": "stdout",
     "output_type": "stream",
     "text": [
      "444\n"
     ]
    }
   ],
   "source": [
    "var = \"temperature\"\n",
    "process_stations = ProcessStations()\n",
    "all_stations = process_stations.get_path_all_stations(var)\n",
    "print(len(all_stations))"
   ]
  },
  {
   "cell_type": "code",
   "execution_count": 3,
   "metadata": {},
   "outputs": [
    {
     "name": "stderr",
     "output_type": "stream",
     "text": [
      "Loading stations: 100%|██████████| 444/444 [01:25<00:00,  5.18it/s]\n"
     ]
    }
   ],
   "source": [
    "f = all_stations[0]\n",
    "ds = process_stations.load_station(f)\n",
    "da = process_stations.ds_to_da(ds, var)\n",
    "\n",
    "# takes a couple of minutes\n",
    "df = process_stations.get_metadata_df(var)"
   ]
  },
  {
   "cell_type": "code",
   "execution_count": null,
   "metadata": {},
   "outputs": [],
   "source": [
    "ax = process_stations.plot_stations_on_map(df)\n",
    "plt.title(f\"Stations with temperature observations\", fontsize=15)\n",
    "ax.legend(fontsize=10)\n",
    " \n",
    "plt.savefig('./images/stations.png')\n",
    "plt.show()"
   ]
  },
  {
   "cell_type": "code",
   "execution_count": null,
   "metadata": {},
   "outputs": [],
   "source": []
  }
 ],
 "metadata": {
  "kernelspec": {
   "display_name": "deepsensor",
   "language": "python",
   "name": "python3"
  },
  "language_info": {
   "codemirror_mode": {
    "name": "ipython",
    "version": 3
   },
   "file_extension": ".py",
   "mimetype": "text/x-python",
   "name": "python",
   "nbconvert_exporter": "python",
   "pygments_lexer": "ipython3",
   "version": "3.11.5"
  }
 },
 "nbformat": 4,
 "nbformat_minor": 2
}
