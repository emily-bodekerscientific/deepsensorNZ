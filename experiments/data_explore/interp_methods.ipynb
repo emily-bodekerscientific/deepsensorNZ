{
 "cells": [
  {
   "cell_type": "code",
   "execution_count": null,
   "metadata": {},
   "outputs": [],
   "source": [
    "%reload_ext autoreload\n",
    "%autoreload 2"
   ]
  },
  {
   "cell_type": "code",
   "execution_count": null,
   "metadata": {},
   "outputs": [],
   "source": [
    "from nzdownscale.downscaler.preprocess import PreprocessForDownscaling\n",
    "from nzdownscale.dataprocess import wrf\n",
    "import numpy as np\n",
    "from functools import partial\n",
    "import xarray as xr\n",
    "from tqdm import tqdm\n",
    "from time import time\n",
    "import matplotlib.pyplot as plt"
   ]
  },
  {
   "cell_type": "code",
   "execution_count": null,
   "metadata": {},
   "outputs": [],
   "source": [
    "fpaths = wrf.get_filepaths('2023110100', '2023110200')\n",
    "len(fpaths)"
   ]
  },
  {
   "cell_type": "code",
   "execution_count": null,
   "metadata": {},
   "outputs": [],
   "source": [
    "context_variables = ['temperature',\n",
    "        'precipitation',\n",
    "        '10m_u_component_of_wind',\n",
    "        '10m_v_component_of_wind',\n",
    "        'surface_pressure',\n",
    "        'surface_solar_radiation_downwards',\n",
    "        ]\n",
    "\n",
    "data = PreprocessForDownscaling(\n",
    "        variable='temperature',\n",
    "        base='wrf',\n",
    "        training_fpaths=fpaths[:-1], #wrf\n",
    "        validation_fpaths=fpaths[-1:], #wrf\n",
    "        context_variables=context_variables,\n",
    "    )"
   ]
  },
  {
   "cell_type": "code",
   "execution_count": null,
   "metadata": {},
   "outputs": [],
   "source": [
    "base_ds = data.process_wrf.load_ds(filenames=data.all_paths,\n",
    "                                    context_variables = data.context_variables)"
   ]
  },
  {
   "cell_type": "code",
   "execution_count": null,
   "metadata": {},
   "outputs": [],
   "source": [
    "len(base_ds.south_north)"
   ]
  },
  {
   "cell_type": "code",
   "execution_count": null,
   "metadata": {},
   "outputs": [],
   "source": [
    "data.load_topography()\n",
    "highres_aux_raw_ds, aux_raw_ds = data.preprocess_topography(5, 4)\n",
    "aux_raw_ds"
   ]
  },
  {
   "cell_type": "code",
   "execution_count": null,
   "metadata": {},
   "outputs": [],
   "source": [
    "base_ds"
   ]
  },
  {
   "cell_type": "markdown",
   "metadata": {},
   "source": [
    "# Method 1: LinearND Interpolation"
   ]
  },
  {
   "cell_type": "code",
   "execution_count": null,
   "metadata": {},
   "outputs": [],
   "source": [
    "start = time()\n",
    "LND = data.process_wrf.regrid_to_topo_old(base_ds, aux_raw_ds)\n",
    "print(time()-start)"
   ]
  },
  {
   "cell_type": "markdown",
   "metadata": {},
   "source": [
    "# Method 2: xESMF"
   ]
  },
  {
   "cell_type": "code",
   "execution_count": null,
   "metadata": {},
   "outputs": [],
   "source": [
    "start = time()\n",
    "new_ds = data.process_wrf.regrid_to_topo(base_ds,\n",
    "                                aux_raw_ds)\n",
    "print(time()-start)"
   ]
  },
  {
   "cell_type": "code",
   "execution_count": null,
   "metadata": {},
   "outputs": [],
   "source": [
    "new_ds"
   ]
  },
  {
   "cell_type": "code",
   "execution_count": null,
   "metadata": {},
   "outputs": [],
   "source": [
    "base_ds.T2.isel(Time=0).plot()"
   ]
  },
  {
   "cell_type": "code",
   "execution_count": null,
   "metadata": {},
   "outputs": [],
   "source": [
    "new_ds.T2.isel(Time=0).plot()"
   ]
  },
  {
   "cell_type": "markdown",
   "metadata": {},
   "source": [
    "# New method"
   ]
  },
  {
   "cell_type": "code",
   "execution_count": null,
   "metadata": {},
   "outputs": [],
   "source": [
    "import xesmf as xe"
   ]
  },
  {
   "cell_type": "code",
   "execution_count": null,
   "metadata": {},
   "outputs": [],
   "source": [
    "ds = base_ds.rename({'XLONG': 'lon', 'XLAT': 'lat'})\n",
    "ds"
   ]
  },
  {
   "cell_type": "code",
   "execution_count": null,
   "metadata": {},
   "outputs": [],
   "source": [
    "ds_out = xr.Dataset({\n",
    "    'lat': (['lat'], aux_raw_ds.latitude.values),\n",
    "    'lon': (['lon'], aux_raw_ds.longitude.values),\n",
    "})"
   ]
  },
  {
   "cell_type": "code",
   "execution_count": null,
   "metadata": {},
   "outputs": [],
   "source": [
    "regridder = xe.Regridder(ds.isel(Time=0), ds_out, \"bilinear\")"
   ]
  },
  {
   "cell_type": "code",
   "execution_count": null,
   "metadata": {},
   "outputs": [],
   "source": [
    "# regridder.to_netcdf()"
   ]
  },
  {
   "cell_type": "code",
   "execution_count": null,
   "metadata": {},
   "outputs": [],
   "source": [
    "new = regridder(ds)"
   ]
  },
  {
   "cell_type": "code",
   "execution_count": null,
   "metadata": {},
   "outputs": [],
   "source": [
    "new"
   ]
  },
  {
   "cell_type": "code",
   "execution_count": null,
   "metadata": {},
   "outputs": [],
   "source": [
    "new.isel(Time=0).T2.plot()"
   ]
  },
  {
   "cell_type": "code",
   "execution_count": null,
   "metadata": {},
   "outputs": [],
   "source": [
    "new == new_ds"
   ]
  },
  {
   "cell_type": "markdown",
   "metadata": {},
   "source": [
    "# Greg's ndimage method"
   ]
  },
  {
   "cell_type": "code",
   "execution_count": null,
   "metadata": {},
   "outputs": [],
   "source": [
    "from scipy import ndimage\n",
    "from scipy.interpolate import LinearNDInterpolator\n",
    "\n",
    "class regridder:\n",
    "    def __init__(self, from_lats, to_lats, from_lons, to_lons):\n",
    "        \"\"\"\n",
    "\n",
    "        :param from_lats:\n",
    "        :param to_lats:\n",
    "        :param from_lons:\n",
    "        :param to_lons:\n",
    "        \"\"\"\n",
    "        from_lats = np.array(from_lats)\n",
    "        self.to_lats = np.array(to_lats)\n",
    "        from_lons = np.array(from_lons)\n",
    "        self.to_lons = np.array(to_lons)\n",
    "        assert (np.min(self.to_lats) >= np.min(from_lats)), \\\n",
    "            'The minimum latitude to interpolate to was smaller than the input grid.'\n",
    "        assert (np.max(self.to_lats) <= np.max(from_lats)), \\\n",
    "            'The maximum latitude to interpolate to was greater than the input grid.'\n",
    "        assert (np.min(self.to_lons) >= np.min(from_lons)), \\\n",
    "            'The minimum longitude to interpolate to was smaller than the input grid.'\n",
    "        assert (np.max(self.to_lons) <= np.max(from_lons)), \\\n",
    "            'The maximum longitude to interpolate to was greater than the input grid.'\n",
    "\n",
    "        # Ensure that the latitudes and longitudes are increasing.\n",
    "        from_lats_indices = np.arange(len(from_lats))\n",
    "        if np.any(np.diff(from_lats) < 0):\n",
    "            if np.any(np.diff(from_lats) > 0): # lats are non-monotonic\n",
    "                from_lats = np.sort(from_lats)\n",
    "                from_lats_indices = np.argsort(from_lats)\n",
    "            else: # lats are decreasing\n",
    "                from_lats = np.flip(from_lats)\n",
    "                from_lats_indices = np.flip(from_lats_indices)\n",
    "        from_lons_indices = np.arange(len(from_lons))\n",
    "        if ~np.all(np.diff(from_lons) > 0):\n",
    "            from_lons = np.flip(from_lons)\n",
    "            from_lons_indices = np.flip(from_lons_indices)\n",
    "        lat_indices = np.interp(self.to_lats, from_lats, from_lats_indices)\n",
    "        lon_indices = np.interp(self.to_lons, from_lons, from_lons_indices)\n",
    "        lon_mesh, lat_mesh = np.meshgrid(lon_indices, lat_indices)\n",
    "        self.shape = np.shape(lat_mesh)\n",
    "        self.lat_mesh = lat_mesh.flatten()\n",
    "        self.lon_mesh = lon_mesh.flatten()\n",
    "\n",
    "    def regrid(self, data: xr.DataArray, method: int=1) -> xr.DataArray:\n",
    "        \"\"\"\n",
    "\n",
    "        :param data:\n",
    "        :return:\n",
    "        \"\"\"\n",
    "        # todo: need to figure out how to loop over all dimensions except latitude and longitude.\n",
    "\n",
    "        if method == 1:\n",
    "            new_data = ndimage.map_coordinates(data.data, [self.lat_mesh, self.lon_mesh], order=1)\n",
    "            new_data = new_data.reshape(self.shape)\n",
    "            result = xr.DataArray(new_data, coords=[self.to_lats, self.to_lons], dims=['latitude', 'longitude'],\n",
    "                                  name=data.name)\n",
    "            result.attrs = data.attrs\n",
    "            return result\n",
    "        if method == 2:\n",
    "            vals = data.data.flatten()\n",
    "            lons, lats = np.meshgrid(data.longitude.values, data.latitude.values)\n",
    "            lons = lons.flatten()\n",
    "            lats = lats.flatten()\n",
    "            interp = LinearNDInterpolator(list(zip(lons, lats)), vals)\n",
    "            lons, lats = np.meshgrid(self.to_lons, self.to_lats)\n",
    "            vals_interp = interp(lons, lats)\n",
    "            result = xr.DataArray(vals_interp, coords=[self.to_lats, self.to_lons], dims=['latitude', 'longitude'],\n",
    "                                  name=data.name)\n",
    "            result.attrs = data.attrs\n",
    "            return result"
   ]
  },
  {
   "cell_type": "code",
   "execution_count": null,
   "metadata": {},
   "outputs": [],
   "source": [
    "base_ds"
   ]
  },
  {
   "cell_type": "code",
   "execution_count": null,
   "metadata": {},
   "outputs": [],
   "source": [
    "re = regridder(base_ds.XLAT.values.flatten(), \n",
    "               aux_raw_ds.latitude.values, \n",
    "               base_ds.XLONG.values.flatten(), \n",
    "               aux_raw_ds.longitude.values)"
   ]
  },
  {
   "cell_type": "code",
   "execution_count": null,
   "metadata": {},
   "outputs": [],
   "source": [
    "from_lats = base_ds.XLAT.values.flatten()\n",
    "np.any(np.diff(from_lats) < 0)\n"
   ]
  },
  {
   "cell_type": "code",
   "execution_count": null,
   "metadata": {},
   "outputs": [],
   "source": [
    "T2_regrid = re.regrid(base_ds.T2.isel(Time=0))"
   ]
  },
  {
   "cell_type": "code",
   "execution_count": null,
   "metadata": {},
   "outputs": [],
   "source": [
    "T2_regrid.plot()"
   ]
  },
  {
   "cell_type": "code",
   "execution_count": null,
   "metadata": {},
   "outputs": [],
   "source": []
  }
 ],
 "metadata": {
  "kernelspec": {
   "display_name": "deepsensor",
   "language": "python",
   "name": "python3"
  },
  "language_info": {
   "codemirror_mode": {
    "name": "ipython",
    "version": 3
   },
   "file_extension": ".py",
   "mimetype": "text/x-python",
   "name": "python",
   "nbconvert_exporter": "python",
   "pygments_lexer": "ipython3",
   "version": "3.12.5"
  }
 },
 "nbformat": 4,
 "nbformat_minor": 2
}
